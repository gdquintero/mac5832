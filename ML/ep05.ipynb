{
 "cells": [
  {
   "cell_type": "markdown",
   "metadata": {},
   "source": [
    "# MAC0460 / MAC5832 (2020)\n",
    "<hr>\n",
    "\n",
    "## EP5"
   ]
  },
  {
   "cell_type": "markdown",
   "metadata": {},
   "source": [
    "# Parte 1: Preparação dos dados"
   ]
  },
  {
   "cell_type": "markdown",
   "metadata": {},
   "source": [
    "### Importar conjunto de dados e separar em conjunto de testes e treinamento"
   ]
  },
  {
   "cell_type": "code",
   "execution_count": 47,
   "metadata": {},
   "outputs": [],
   "source": [
    "from tensorflow.keras.datasets import mnist\n",
    "\n",
    "(X_train_all, y_train_all), (X_test_all, y_test_all) = mnist.load_data()"
   ]
  },
  {
   "cell_type": "markdown",
   "metadata": {},
   "source": [
    "### Reshape nos dados e normalização para valores entre 0 e 1"
   ]
  },
  {
   "cell_type": "code",
   "execution_count": 48,
   "metadata": {},
   "outputs": [],
   "source": [
    "import numpy as np\n",
    "\n",
    "n_feat = X_train_all.shape[1] * X_train_all.shape[2]\n",
    "\n",
    "X_train_features = X_train_all.reshape(X_train_all.shape[0], n_feat).astype('float64')\n",
    "X_test_features  = X_test_all.reshape(X_test_all.shape[0], n_feat).astype('float64')\n",
    "\n",
    "X_train_features = np.true_divide(X_train_features, 255.0)\n",
    "X_test_features = np.true_divide(X_test_features, 255.0)"
   ]
  },
  {
   "cell_type": "markdown",
   "metadata": {},
   "source": [
    "### Criando o conjunto de treinamento reduzido com 2000 exemplos de cada classe"
   ]
  },
  {
   "cell_type": "code",
   "execution_count": 49,
   "metadata": {},
   "outputs": [],
   "source": [
    "unique = np.unique(y_train_all)\n",
    "\n",
    "conjuntos_separados = []\n",
    "for i in unique:\n",
    "    conjuntos_separados.append(X_train_features[y_train_all == i])\n",
    "\n",
    "for i in range(len(conjuntos_separados)):\n",
    "    shape = conjuntos_separados[i].shape[0]\n",
    "    conjuntos_separados[i] = conjuntos_separados[i][np.random.choice(shape, 2000, replace=False)]\n",
    "    \n",
    "y_train = np.concatenate([i*np.ones(2000) for i in range(len(unique))]).astype('uint8')\n",
    "X_train = np.concatenate(conjuntos_separados, axis = 0)\n",
    "\n",
    "np.random.seed(56789)\n",
    "def shuffle(X, y):\n",
    "    # input and output must be shuffled equally\n",
    "    perm = np.random.permutation(len(X))\n",
    "    return X[perm], y[perm]\n",
    "\n",
    "X_train, y_train = shuffle(X_train, y_train)\n",
    "X_test = X_test_features\n",
    "y_test = y_test_all\n",
    "\n",
    "X_train_all = X_train_features\n",
    "X_test_all = X_test_features"
   ]
  },
  {
   "cell_type": "markdown",
   "metadata": {},
   "source": [
    "### Printando informações sobre os conjuntos"
   ]
  },
  {
   "cell_type": "code",
   "execution_count": 50,
   "metadata": {},
   "outputs": [
    {
     "name": "stdout",
     "output_type": "stream",
     "text": [
      "X_train, y_train, X_test, y_test\n",
      "dtype:  float64 uint8 float64 uint8\n",
      "shape:  (20000, 784) (20000,) (10000, 784) (10000,)\n",
      "minimum:  0.0 0 0.0 0\n",
      "maximum:  1.0 9 1.0 9\n"
     ]
    }
   ],
   "source": [
    "print(\"X_train, y_train, X_test, y_test\")\n",
    "print(\"dtype: \", X_train.dtype, y_train.dtype, X_test.dtype, y_test.dtype)\n",
    "print(\"shape: \", X_train.shape, y_train.shape, X_test.shape, y_test.shape)\n",
    "print(\"minimum: \", np.amin(X_train),np.amin(y_train),np.amin(X_test),np.amin(y_test))\n",
    "print(\"maximum: \", np.amax(X_train),np.amax(y_train),np.amax(X_test),np.amax(y_test))"
   ]
  },
  {
   "cell_type": "markdown",
   "metadata": {},
   "source": [
    "### Três exemplos aleatórios"
   ]
  },
  {
   "cell_type": "code",
   "execution_count": 51,
   "metadata": {},
   "outputs": [
    {
     "name": "stdout",
     "output_type": "stream",
     "text": [
      "Exemplos:  [3661 4218 4104]\n"
     ]
    },
    {
     "data": {
      "image/png": "[encoded data removed]",
      "text/plain": [
       "<Figure size 432x288 with 3 Axes>"
      ]
     },
     "metadata": {
      "needs_background": "light"
     },
     "output_type": "display_data"
    }
   ],
   "source": [
    "import matplotlib.pyplot as plt\n",
    "%matplotlib inline\n",
    "\n",
    "ind = np.random.randint(X_train.shape[0], size=3)\n",
    "\n",
    "print(\"Exemplos: \", ind)\n",
    "\n",
    "f, axarr = plt.subplots(1,3)\n",
    "aux = 0\n",
    "for i in ind:\n",
    "    axarr[aux].imshow(X_train[i].reshape(28,28))\n",
    "    aux = aux + 1\n",
    "    \n",
    "plt.show()"
   ]
  },
  {
   "cell_type": "markdown",
   "metadata": {},
   "source": [
    "# Parte 2: Seleção dos modelos"
   ]
  },
  {
   "cell_type": "markdown",
   "metadata": {},
   "source": [
    "### Frequencia de classes em cada fold"
   ]
  },
  {
   "cell_type": "code",
   "execution_count": 52,
   "metadata": {},
   "outputs": [
    {
     "name": "stdout",
     "output_type": "stream",
     "text": [
      "Classes:\t [0, 1, 2, 3, 4, 5, 6, 7, 8, 9]\n",
      "Fold: 0\n",
      "\tTreino:\t [1600 1600 1600 1600 1600 1600 1600 1600 1600 1600]\n",
      "\tTeste:\t [400 400 400 400 400 400 400 400 400 400]\n",
      "Fold: 1\n",
      "\tTreino:\t [1600 1600 1600 1600 1600 1600 1600 1600 1600 1600]\n",
      "\tTeste:\t [400 400 400 400 400 400 400 400 400 400]\n",
      "Fold: 2\n",
      "\tTreino:\t [1600 1600 1600 1600 1600 1600 1600 1600 1600 1600]\n",
      "\tTeste:\t [400 400 400 400 400 400 400 400 400 400]\n",
      "Fold: 3\n",
      "\tTreino:\t [1600 1600 1600 1600 1600 1600 1600 1600 1600 1600]\n",
      "\tTeste:\t [400 400 400 400 400 400 400 400 400 400]\n",
      "Fold: 4\n",
      "\tTreino:\t [1600 1600 1600 1600 1600 1600 1600 1600 1600 1600]\n",
      "\tTeste:\t [400 400 400 400 400 400 400 400 400 400]\n"
     ]
    }
   ],
   "source": [
    "from keras.utils import to_categorical\n",
    "from sklearn.model_selection import StratifiedKFold\n",
    "from keras import models\n",
    "from keras import layers\n",
    "\n",
    "\n",
    "skf = StratifiedKFold(n_splits=5)\n",
    "\n",
    "\n",
    "split = list(skf.split(X_train, y_train))\n",
    "\n",
    "print(\"Classes:\\t\",list(range(10)))\n",
    "\n",
    "aux = 0\n",
    "for train_index, test_index in split:\n",
    "    print(\"Fold:\",aux)\n",
    "    unique, counts = np.unique(y_train[train_index], return_counts=True)\n",
    "    print(\"\\tTreino:\\t\", counts)\n",
    "    \n",
    "    unique, counts = np.unique(y_train[test_index], return_counts=True)\n",
    "    print(\"\\tTeste:\\t\", counts)\n",
    "    aux += 1"
   ]
  },
  {
   "cell_type": "markdown",
   "metadata": {},
   "source": [
    "### Fazendo Kfold para cada um dos três modelos e printando acurácia para cada fold e acurácia média final"
   ]
  },
  {
   "cell_type": "code",
   "execution_count": 35,
   "metadata": {},
   "outputs": [
    {
     "name": "stdout",
     "output_type": "stream",
     "text": [
      "Modelo 1:\n",
      "125/125 [==============================] - 0s 1ms/step - loss: 0.1259 - accuracy: 0.9613\n",
      "125/125 [==============================] - 0s 1ms/step - loss: 0.1419 - accuracy: 0.9588\n",
      "125/125 [==============================] - 0s 1ms/step - loss: 0.1316 - accuracy: 0.9605\n",
      "125/125 [==============================] - 0s 1ms/step - loss: 0.1394 - accuracy: 0.9580\n",
      "125/125 [==============================] - 0s 1ms/step - loss: 0.1403 - accuracy: 0.9567\n",
      "Acurácia média Modelo 1=  0.9590499997138977\n",
      "Modelo 2:\n",
      "oq\n",
      "125/125 [==============================] - 0s 2ms/step - loss: 0.2297 - accuracy: 0.9273\n",
      "oq\n",
      "125/125 [==============================] - 0s 1ms/step - loss: 0.2301 - accuracy: 0.9333\n",
      "oq\n",
      "125/125 [==============================] - 0s 2ms/step - loss: 0.2124 - accuracy: 0.9355\n",
      "oq\n",
      "125/125 [==============================] - 0s 2ms/step - loss: 0.2114 - accuracy: 0.9383\n",
      "oq\n",
      "125/125 [==============================] - 0s 2ms/step - loss: 0.2218 - accuracy: 0.9320\n",
      "Acurácia média Modelo 2=  0.9332500100135803 \n",
      "\n",
      "\n",
      "Modelo 3:\n",
      "125/125 [==============================] - 0s 2ms/step - loss: 0.1286 - accuracy: 0.9670\n",
      "125/125 [==============================] - 0s 2ms/step - loss: 0.1511 - accuracy: 0.9632\n",
      "125/125 [==============================] - 0s 2ms/step - loss: 0.1329 - accuracy: 0.9660\n",
      "125/125 [==============================] - 0s 2ms/step - loss: 0.1469 - accuracy: 0.9650\n",
      "125/125 [==============================] - 0s 2ms/step - loss: 0.1305 - accuracy: 0.9647\n",
      "Acurácia média Modelo 3=  0.9651999950408936 \n",
      "\n",
      "\n"
     ]
    }
   ],
   "source": [
    "from keras import models\n",
    "from keras import layers\n",
    "from keras.utils import to_categorical\n",
    "\n",
    "##Modelo do do site de referência\n",
    "print(\"Modelo 1:\")\n",
    "\n",
    "cvscores = []\n",
    "num_epocas = 5\n",
    "batch_size = 128\n",
    "\n",
    "for train_index, test_index in split:\n",
    "    network = models.Sequential()\n",
    "    network.add(layers.Dense(512, activation='relu', input_shape=(28 * 28,)))\n",
    "    network.add(layers.Dense(10, activation='softmax'))\n",
    "\n",
    "    network.compile(optimizer='rmsprop',\n",
    "                    loss='categorical_crossentropy',\n",
    "                    metrics=['accuracy'])\n",
    "\n",
    "    X_treino, X_validacao = X_train[train_index], X_train[test_index]\n",
    "    y_treino, y_validacao = y_train[train_index], y_train[test_index]\n",
    "    \n",
    "    y_treino = to_categorical(y_treino)\n",
    "    y_validacao = to_categorical(y_validacao)\n",
    "\n",
    "    history = network.fit(X_treino, y_treino, epochs=num_epocas, batch_size=batch_size, verbose=0)\n",
    "    \n",
    "    scores = network.evaluate(X_validacao, y_validacao)\n",
    "    \n",
    "    cvscores.append(scores[1])\n",
    "\n",
    "print(\"Acurácia média Modelo 1= \",np.mean(cvscores))\n",
    "\n",
    "\n",
    "print(\"Modelo 2:\")\n",
    "##Modelo 2########################################\n",
    "cvscores = []\n",
    "for train_index, test_index in split:\n",
    "    \n",
    "    print(\"oq\")\n",
    "    network = models.Sequential()\n",
    "    network.add(layers.Dense(728, activation='sigmoid', input_shape=(28 * 28,)))\n",
    "    network.add(layers.Dense(512, activation='relu'))\n",
    "    network.add(layers.Dense(10, activation='softmax'))\n",
    "\n",
    "    network.compile(optimizer='rmsprop',\n",
    "                    loss='categorical_crossentropy',\n",
    "                    metrics=['accuracy'])\n",
    "\n",
    "    X_treino, X_validacao = X_train[train_index], X_train[test_index]\n",
    "    y_treino, y_validacao = y_train[train_index], y_train[test_index]\n",
    "    \n",
    "    y_treino = to_categorical(y_treino)\n",
    "    y_validacao = to_categorical(y_validacao)\n",
    "\n",
    "    history = network.fit(X_treino, y_treino, epochs=num_epocas, batch_size=batch_size, verbose=0)\n",
    "    \n",
    "    scores = network.evaluate(X_validacao, y_validacao)\n",
    "    \n",
    "    cvscores.append(scores[1])\n",
    "\n",
    "print(\"Acurácia média Modelo 2= \",np.mean(cvscores),\"\\n\\n\")\n",
    "\n",
    "\n",
    "print(\"Modelo 3:\")\n",
    "#Modelo 3######################################\n",
    "cvscores = []\n",
    "for train_index, test_index in split:\n",
    "    network = models.Sequential()\n",
    "    network.add(layers.Dense(784, activation='relu', input_shape=(28 * 28,)))\n",
    "    network.add(layers.Dense(400, activation='relu'))\n",
    "    network.add(layers.Dense(100, activation='relu'))\n",
    "    network.add(layers.Dense(50, activation='relu')) \n",
    "    network.add(layers.Dense(10, activation='softmax'))\n",
    "\n",
    "    network.compile(optimizer='rmsprop',\n",
    "                    loss='categorical_crossentropy',\n",
    "                    metrics=['accuracy'])\n",
    "\n",
    "    X_treino, X_validacao = X_train[train_index], X_train[test_index]\n",
    "    y_treino, y_validacao = y_train[train_index], y_train[test_index]\n",
    "    \n",
    "    y_treino = to_categorical(y_treino)\n",
    "    y_validacao = to_categorical(y_validacao)\n",
    "\n",
    "    history = network.fit(X_treino, y_treino, epochs=num_epocas, batch_size=batch_size, verbose=0)\n",
    "    \n",
    "    scores = network.evaluate(X_validacao, y_validacao)\n",
    "    \n",
    "    cvscores.append(scores[1])\n",
    "\n",
    "print(\"Acurácia média Modelo 3= \",np.mean(cvscores),\"\\n\\n\")"
   ]
  },
  {
   "cell_type": "markdown",
   "metadata": {},
   "source": [
    "### Modelo 3 escolhido usando o critério de maior acurácia média no conjunto de validação"
   ]
  },
  {
   "cell_type": "markdown",
   "metadata": {},
   "source": [
    "# Parte 3: Avaliando o Modelo Escolhido\n",
    "\n",
    "#### Agora definindo o Modelo 3"
   ]
  },
  {
   "cell_type": "code",
   "execution_count": 53,
   "metadata": {},
   "outputs": [],
   "source": [
    "modelo3 = models.Sequential()\n",
    "modelo3.add(layers.Dense(784, activation='relu', input_shape=(28 * 28,)))\n",
    "modelo3.add(layers.Dense(512, activation='relu'))\n",
    "modelo3.add(layers.Dense(400, activation='relu'))\n",
    "modelo3.add(layers.Dense(50, activation='sigmoid')) \n",
    "modelo3.add(layers.Dense(10, activation='softmax'))\n",
    "\n",
    "modelo3.compile(optimizer='rmsprop',\n",
    "                loss='categorical_crossentropy',\n",
    "                metrics=['accuracy'])"
   ]
  },
  {
   "cell_type": "markdown",
   "metadata": {},
   "source": [
    "### Ajustando o modelo para o conjunto de treinamento completo"
   ]
  },
  {
   "cell_type": "code",
   "execution_count": 65,
   "metadata": {},
   "outputs": [
    {
     "name": "stdout",
     "output_type": "stream",
     "text": [
      "dict_keys(['loss', 'accuracy'])\n"
     ]
    }
   ],
   "source": [
    "#ajustando aos dados de treino\n",
    "#y_train_all = to_categorical(y_train_all)\n",
    "history = modelo3.fit(X_train_all, to_categorical(y_train_all), epochs=num_epocas, batch_size=batch_size, verbose=0)\n",
    "\n",
    "print(history.history.keys())"
   ]
  },
  {
   "cell_type": "markdown",
   "metadata": {},
   "source": [
    "### Curva de aprendizado e scores finais no conjunto de treinamento"
   ]
  },
  {
   "cell_type": "code",
   "execution_count": 71,
   "metadata": {},
   "outputs": [
    {
     "name": "stdout",
     "output_type": "stream",
     "text": [
      "Acurácia final no conjunto de treinamento:\t 0.9971666932106018\n",
      "Loss final no conjunto de treinamento:\t 0.011731689795851707\n"
     ]
    },
    {
     "data": {
      "image/png": "[encoded data removed]",
      "text/plain": [
       "<Figure size 432x288 with 1 Axes>"
      ]
     },
     "metadata": {
      "needs_background": "light"
     },
     "output_type": "display_data"
    },
    {
     "data": {
      "image/png": "[encoded data removed]",
      "text/plain": [
       "<Figure size 432x288 with 1 Axes>"
      ]
     },
     "metadata": {
      "needs_background": "light"
     },
     "output_type": "display_data"
    }
   ],
   "source": [
    "#printando a curva de aprendizado\n",
    "\n",
    "import matplotlib.pyplot as plt\n",
    "\n",
    "print(\"Acurácia final no conjunto de treinamento:\\t\", history.history['accuracy'][-1])\n",
    "print(\"Loss final no conjunto de treinamento:\\t\", history.history['loss'][-1])\n",
    "\n",
    "# summarize history for accuracy\n",
    "plt.plot(history.history['accuracy'])\n",
    "plt.title('model accuracy')\n",
    "plt.ylabel('accuracy')\n",
    "plt.xlabel('epoch')\n",
    "plt.legend(['train', 'test'], loc='upper left')\n",
    "plt.show()\n",
    "\n",
    "# summarize history for loss\n",
    "plt.plot(history.history['loss'])\n",
    "plt.title('model loss')\n",
    "plt.ylabel('loss')\n",
    "plt.xlabel('epoch')\n",
    "plt.legend(['train', 'test'], loc='upper left')\n",
    "plt.show()\n",
    "#print(scores[0])"
   ]
  },
  {
   "cell_type": "markdown",
   "metadata": {},
   "source": [
    "### Plotando a frequência de cada classe no conjunto de testes completo"
   ]
  },
  {
   "cell_type": "code",
   "execution_count": 79,
   "metadata": {},
   "outputs": [
    {
     "data": {
      "image/png": "[encoded data removed]",
      "text/plain": [
       "<Figure size 432x288 with 1 Axes>"
      ]
     },
     "metadata": {
      "needs_background": "light"
     },
     "output_type": "display_data"
    }
   ],
   "source": [
    "unique, counts = np.unique(y_test_all, return_counts=True)\n",
    "plt.bar(unique, counts, 0.5)\n",
    "plt.title('Class Frequency')\n",
    "plt.xlabel('Class')\n",
    "plt.ylabel('Frequency')\n",
    "plt.show()"
   ]
  },
  {
   "cell_type": "markdown",
   "metadata": {},
   "source": [
    "### Avaliando o modelo 3 no conjunto de testes"
   ]
  },
  {
   "cell_type": "code",
   "execution_count": 80,
   "metadata": {},
   "outputs": [
    {
     "name": "stdout",
     "output_type": "stream",
     "text": [
      "Teste loss:\t 0.10714507848024368\n",
      "Teste acurácia:\t 0.983299970626831\n"
     ]
    }
   ],
   "source": [
    "scores = modelo3.evaluate(X_test_all, to_categorical(y_test_all),verbose = 0)\n",
    "\n",
    "print('Teste loss:\\t', scores[0]) \n",
    "print('Teste acurácia:\\t', scores[1])"
   ]
  },
  {
   "cell_type": "markdown",
   "metadata": {},
   "source": [
    "### Plotando Matriz de Confusão em relação ao conjunto de testes"
   ]
  },
  {
   "cell_type": "code",
   "execution_count": 121,
   "metadata": {},
   "outputs": [
    {
     "data": {
      "image/png": "[encoded data removed]",
      "text/plain": [
       "<Figure size 432x288 with 2 Axes>"
      ]
     },
     "metadata": {
      "needs_background": "light"
     },
     "output_type": "display_data"
    }
   ],
   "source": [
    "y_pred = np.argmax(modelo3.predict(X_test_all), axis=-1)\n",
    "\n",
    "from sklearn.metrics import confusion_matrix\n",
    "\n",
    "labels = list(range(10))\n",
    "cm = confusion_matrix(y_test_all, y_pred, labels)\n",
    "\n",
    "fig = plt.figure()\n",
    "ax = fig.add_subplot()\n",
    "cax = ax.matshow(cm)\n",
    "plt.title('Matriz de confusão para modelo 3')\n",
    "fig.colorbar(cax)\n",
    "\n",
    "ax.set_xticklabels(labels)\n",
    "ax.set_yticklabels(labels)\n",
    "ax.set_xticks(labels)\n",
    "ax.set_yticks(labels)\n",
    "\n",
    "plt.xlabel('Classe predita')\n",
    "plt.ylabel('Classe real')\n",
    "plt.show()"
   ]
  }
 ],
 "metadata": {
  "kernelspec": {
   "display_name": "Python 3",
   "language": "python",
   "name": "python3"
  },
  "language_info": {
   "codemirror_mode": {
    "name": "ipython",
    "version": 3
   },
   "file_extension": ".py",
   "mimetype": "text/x-python",
   "name": "python",
   "nbconvert_exporter": "python",
   "pygments_lexer": "ipython3",
   "version": "3.7.4"
  }
 },
 "nbformat": 4,
 "nbformat_minor": 2
}
